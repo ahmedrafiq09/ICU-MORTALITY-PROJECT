{
 "cells": [
  {
   "cell_type": "code",
   "execution_count": 1,
   "metadata": {},
   "outputs": [],
   "source": [
    "#Import All The Libraries\n",
    "import numpy as np\n",
    "import pandas as pd\n",
    "from matplotlib import pyplot as plt\n",
    "import seaborn as sns\n"
   ]
  },
  {
   "cell_type": "code",
   "execution_count": 2,
   "metadata": {},
   "outputs": [
    {
     "data": {
      "text/html": [
       "<div>\n",
       "<style scoped>\n",
       "    .dataframe tbody tr th:only-of-type {\n",
       "        vertical-align: middle;\n",
       "    }\n",
       "\n",
       "    .dataframe tbody tr th {\n",
       "        vertical-align: top;\n",
       "    }\n",
       "\n",
       "    .dataframe thead th {\n",
       "        text-align: right;\n",
       "    }\n",
       "</style>\n",
       "<table border=\"1\" class=\"dataframe\">\n",
       "  <thead>\n",
       "    <tr style=\"text-align: right;\">\n",
       "      <th></th>\n",
       "      <th>gender</th>\n",
       "      <th>icustay_admit_age</th>\n",
       "      <th>congestive_heart_failure</th>\n",
       "      <th>cardiac_arrhythmias</th>\n",
       "      <th>valvular_disease</th>\n",
       "      <th>pulmonary_circulation</th>\n",
       "      <th>peripheral_vascular</th>\n",
       "      <th>hypertension</th>\n",
       "      <th>paralysis</th>\n",
       "      <th>other_neurological</th>\n",
       "      <th>...</th>\n",
       "      <th>obesity</th>\n",
       "      <th>fluid_electrolyte</th>\n",
       "      <th>blood_loss_anemia</th>\n",
       "      <th>deficiency_anemias</th>\n",
       "      <th>alcohol_abuse</th>\n",
       "      <th>drug_abuse</th>\n",
       "      <th>psychoses</th>\n",
       "      <th>depression</th>\n",
       "      <th>icustay_id</th>\n",
       "      <th>icustay_expire_flg</th>\n",
       "    </tr>\n",
       "  </thead>\n",
       "  <tbody>\n",
       "    <tr>\n",
       "      <th>0</th>\n",
       "      <td>M</td>\n",
       "      <td>72.00637</td>\n",
       "      <td>1</td>\n",
       "      <td>1</td>\n",
       "      <td>0</td>\n",
       "      <td>0</td>\n",
       "      <td>0</td>\n",
       "      <td>0</td>\n",
       "      <td>0</td>\n",
       "      <td>0</td>\n",
       "      <td>...</td>\n",
       "      <td>0</td>\n",
       "      <td>0</td>\n",
       "      <td>0</td>\n",
       "      <td>0</td>\n",
       "      <td>0</td>\n",
       "      <td>0</td>\n",
       "      <td>0</td>\n",
       "      <td>0</td>\n",
       "      <td>29</td>\n",
       "      <td>N</td>\n",
       "    </tr>\n",
       "    <tr>\n",
       "      <th>1</th>\n",
       "      <td>M</td>\n",
       "      <td>68.93134</td>\n",
       "      <td>0</td>\n",
       "      <td>0</td>\n",
       "      <td>0</td>\n",
       "      <td>0</td>\n",
       "      <td>0</td>\n",
       "      <td>0</td>\n",
       "      <td>0</td>\n",
       "      <td>0</td>\n",
       "      <td>...</td>\n",
       "      <td>0</td>\n",
       "      <td>0</td>\n",
       "      <td>0</td>\n",
       "      <td>0</td>\n",
       "      <td>0</td>\n",
       "      <td>0</td>\n",
       "      <td>0</td>\n",
       "      <td>0</td>\n",
       "      <td>41</td>\n",
       "      <td>N</td>\n",
       "    </tr>\n",
       "    <tr>\n",
       "      <th>2</th>\n",
       "      <td>M</td>\n",
       "      <td>48.62681</td>\n",
       "      <td>0</td>\n",
       "      <td>0</td>\n",
       "      <td>0</td>\n",
       "      <td>0</td>\n",
       "      <td>0</td>\n",
       "      <td>0</td>\n",
       "      <td>0</td>\n",
       "      <td>0</td>\n",
       "      <td>...</td>\n",
       "      <td>0</td>\n",
       "      <td>0</td>\n",
       "      <td>0</td>\n",
       "      <td>0</td>\n",
       "      <td>0</td>\n",
       "      <td>1</td>\n",
       "      <td>0</td>\n",
       "      <td>0</td>\n",
       "      <td>89</td>\n",
       "      <td>N</td>\n",
       "    </tr>\n",
       "    <tr>\n",
       "      <th>3</th>\n",
       "      <td>F</td>\n",
       "      <td>90.64270</td>\n",
       "      <td>1</td>\n",
       "      <td>0</td>\n",
       "      <td>0</td>\n",
       "      <td>0</td>\n",
       "      <td>0</td>\n",
       "      <td>1</td>\n",
       "      <td>0</td>\n",
       "      <td>0</td>\n",
       "      <td>...</td>\n",
       "      <td>0</td>\n",
       "      <td>1</td>\n",
       "      <td>0</td>\n",
       "      <td>0</td>\n",
       "      <td>0</td>\n",
       "      <td>0</td>\n",
       "      <td>0</td>\n",
       "      <td>0</td>\n",
       "      <td>62</td>\n",
       "      <td>N</td>\n",
       "    </tr>\n",
       "    <tr>\n",
       "      <th>4</th>\n",
       "      <td>M</td>\n",
       "      <td>76.52892</td>\n",
       "      <td>1</td>\n",
       "      <td>0</td>\n",
       "      <td>0</td>\n",
       "      <td>0</td>\n",
       "      <td>0</td>\n",
       "      <td>0</td>\n",
       "      <td>0</td>\n",
       "      <td>0</td>\n",
       "      <td>...</td>\n",
       "      <td>0</td>\n",
       "      <td>0</td>\n",
       "      <td>0</td>\n",
       "      <td>0</td>\n",
       "      <td>0</td>\n",
       "      <td>0</td>\n",
       "      <td>0</td>\n",
       "      <td>0</td>\n",
       "      <td>4</td>\n",
       "      <td>N</td>\n",
       "    </tr>\n",
       "    <tr>\n",
       "      <th>...</th>\n",
       "      <td>...</td>\n",
       "      <td>...</td>\n",
       "      <td>...</td>\n",
       "      <td>...</td>\n",
       "      <td>...</td>\n",
       "      <td>...</td>\n",
       "      <td>...</td>\n",
       "      <td>...</td>\n",
       "      <td>...</td>\n",
       "      <td>...</td>\n",
       "      <td>...</td>\n",
       "      <td>...</td>\n",
       "      <td>...</td>\n",
       "      <td>...</td>\n",
       "      <td>...</td>\n",
       "      <td>...</td>\n",
       "      <td>...</td>\n",
       "      <td>...</td>\n",
       "      <td>...</td>\n",
       "      <td>...</td>\n",
       "      <td>...</td>\n",
       "    </tr>\n",
       "    <tr>\n",
       "      <th>5362</th>\n",
       "      <td>M</td>\n",
       "      <td>88.09742</td>\n",
       "      <td>0</td>\n",
       "      <td>0</td>\n",
       "      <td>0</td>\n",
       "      <td>0</td>\n",
       "      <td>1</td>\n",
       "      <td>1</td>\n",
       "      <td>0</td>\n",
       "      <td>0</td>\n",
       "      <td>...</td>\n",
       "      <td>0</td>\n",
       "      <td>1</td>\n",
       "      <td>0</td>\n",
       "      <td>0</td>\n",
       "      <td>0</td>\n",
       "      <td>0</td>\n",
       "      <td>0</td>\n",
       "      <td>0</td>\n",
       "      <td>47373</td>\n",
       "      <td>Y</td>\n",
       "    </tr>\n",
       "    <tr>\n",
       "      <th>5363</th>\n",
       "      <td>M</td>\n",
       "      <td>57.78417</td>\n",
       "      <td>0</td>\n",
       "      <td>0</td>\n",
       "      <td>0</td>\n",
       "      <td>0</td>\n",
       "      <td>0</td>\n",
       "      <td>1</td>\n",
       "      <td>0</td>\n",
       "      <td>0</td>\n",
       "      <td>...</td>\n",
       "      <td>0</td>\n",
       "      <td>1</td>\n",
       "      <td>0</td>\n",
       "      <td>0</td>\n",
       "      <td>0</td>\n",
       "      <td>0</td>\n",
       "      <td>0</td>\n",
       "      <td>0</td>\n",
       "      <td>47381</td>\n",
       "      <td>Y</td>\n",
       "    </tr>\n",
       "    <tr>\n",
       "      <th>5364</th>\n",
       "      <td>M</td>\n",
       "      <td>89.24603</td>\n",
       "      <td>1</td>\n",
       "      <td>1</td>\n",
       "      <td>0</td>\n",
       "      <td>0</td>\n",
       "      <td>0</td>\n",
       "      <td>0</td>\n",
       "      <td>0</td>\n",
       "      <td>0</td>\n",
       "      <td>...</td>\n",
       "      <td>0</td>\n",
       "      <td>1</td>\n",
       "      <td>0</td>\n",
       "      <td>1</td>\n",
       "      <td>0</td>\n",
       "      <td>0</td>\n",
       "      <td>0</td>\n",
       "      <td>0</td>\n",
       "      <td>47325</td>\n",
       "      <td>Y</td>\n",
       "    </tr>\n",
       "    <tr>\n",
       "      <th>5365</th>\n",
       "      <td>M</td>\n",
       "      <td>68.48606</td>\n",
       "      <td>0</td>\n",
       "      <td>0</td>\n",
       "      <td>0</td>\n",
       "      <td>0</td>\n",
       "      <td>0</td>\n",
       "      <td>0</td>\n",
       "      <td>0</td>\n",
       "      <td>0</td>\n",
       "      <td>...</td>\n",
       "      <td>0</td>\n",
       "      <td>1</td>\n",
       "      <td>0</td>\n",
       "      <td>0</td>\n",
       "      <td>0</td>\n",
       "      <td>0</td>\n",
       "      <td>0</td>\n",
       "      <td>0</td>\n",
       "      <td>47394</td>\n",
       "      <td>Y</td>\n",
       "    </tr>\n",
       "    <tr>\n",
       "      <th>5366</th>\n",
       "      <td>M</td>\n",
       "      <td>79.16299</td>\n",
       "      <td>1</td>\n",
       "      <td>1</td>\n",
       "      <td>1</td>\n",
       "      <td>0</td>\n",
       "      <td>0</td>\n",
       "      <td>1</td>\n",
       "      <td>0</td>\n",
       "      <td>0</td>\n",
       "      <td>...</td>\n",
       "      <td>0</td>\n",
       "      <td>0</td>\n",
       "      <td>0</td>\n",
       "      <td>0</td>\n",
       "      <td>0</td>\n",
       "      <td>0</td>\n",
       "      <td>0</td>\n",
       "      <td>0</td>\n",
       "      <td>47473</td>\n",
       "      <td>Y</td>\n",
       "    </tr>\n",
       "  </tbody>\n",
       "</table>\n",
       "<p>5367 rows × 33 columns</p>\n",
       "</div>"
      ],
      "text/plain": [
       "     gender  icustay_admit_age  congestive_heart_failure  cardiac_arrhythmias  \\\n",
       "0         M           72.00637                         1                    1   \n",
       "1         M           68.93134                         0                    0   \n",
       "2         M           48.62681                         0                    0   \n",
       "3         F           90.64270                         1                    0   \n",
       "4         M           76.52892                         1                    0   \n",
       "...     ...                ...                       ...                  ...   \n",
       "5362      M           88.09742                         0                    0   \n",
       "5363      M           57.78417                         0                    0   \n",
       "5364      M           89.24603                         1                    1   \n",
       "5365      M           68.48606                         0                    0   \n",
       "5366      M           79.16299                         1                    1   \n",
       "\n",
       "      valvular_disease  pulmonary_circulation  peripheral_vascular  \\\n",
       "0                    0                      0                    0   \n",
       "1                    0                      0                    0   \n",
       "2                    0                      0                    0   \n",
       "3                    0                      0                    0   \n",
       "4                    0                      0                    0   \n",
       "...                ...                    ...                  ...   \n",
       "5362                 0                      0                    1   \n",
       "5363                 0                      0                    0   \n",
       "5364                 0                      0                    0   \n",
       "5365                 0                      0                    0   \n",
       "5366                 1                      0                    0   \n",
       "\n",
       "      hypertension  paralysis  other_neurological  ...  obesity  \\\n",
       "0                0          0                   0  ...        0   \n",
       "1                0          0                   0  ...        0   \n",
       "2                0          0                   0  ...        0   \n",
       "3                1          0                   0  ...        0   \n",
       "4                0          0                   0  ...        0   \n",
       "...            ...        ...                 ...  ...      ...   \n",
       "5362             1          0                   0  ...        0   \n",
       "5363             1          0                   0  ...        0   \n",
       "5364             0          0                   0  ...        0   \n",
       "5365             0          0                   0  ...        0   \n",
       "5366             1          0                   0  ...        0   \n",
       "\n",
       "      fluid_electrolyte  blood_loss_anemia  deficiency_anemias  alcohol_abuse  \\\n",
       "0                     0                  0                   0              0   \n",
       "1                     0                  0                   0              0   \n",
       "2                     0                  0                   0              0   \n",
       "3                     1                  0                   0              0   \n",
       "4                     0                  0                   0              0   \n",
       "...                 ...                ...                 ...            ...   \n",
       "5362                  1                  0                   0              0   \n",
       "5363                  1                  0                   0              0   \n",
       "5364                  1                  0                   1              0   \n",
       "5365                  1                  0                   0              0   \n",
       "5366                  0                  0                   0              0   \n",
       "\n",
       "      drug_abuse  psychoses  depression  icustay_id  icustay_expire_flg  \n",
       "0              0          0           0          29                   N  \n",
       "1              0          0           0          41                   N  \n",
       "2              1          0           0          89                   N  \n",
       "3              0          0           0          62                   N  \n",
       "4              0          0           0           4                   N  \n",
       "...          ...        ...         ...         ...                 ...  \n",
       "5362           0          0           0       47373                   Y  \n",
       "5363           0          0           0       47381                   Y  \n",
       "5364           0          0           0       47325                   Y  \n",
       "5365           0          0           0       47394                   Y  \n",
       "5366           0          0           0       47473                   Y  \n",
       "\n",
       "[5367 rows x 33 columns]"
      ]
     },
     "execution_count": 2,
     "metadata": {},
     "output_type": "execute_result"
    }
   ],
   "source": [
    "df = pd.read_csv(\"icu_mortality.csv\")\n",
    "df"
   ]
  },
  {
   "cell_type": "code",
   "execution_count": 3,
   "metadata": {},
   "outputs": [
    {
     "name": "stdout",
     "output_type": "stream",
     "text": [
      "Columns with Null Values:\n",
      "gender    11\n",
      "dtype: int64\n"
     ]
    }
   ],
   "source": [
    "# Check for null values in the entire dataset\n",
    "null_values = df.isnull().sum()\n",
    "\n",
    "# Display the columns with null values and their respective counts\n",
    "print(\"Columns with Null Values:\")\n",
    "print(null_values[null_values > 0])"
   ]
  },
  {
   "cell_type": "code",
   "execution_count": 5,
   "metadata": {},
   "outputs": [
    {
     "name": "stdout",
     "output_type": "stream",
     "text": [
      "Cleaned DataFrame:\n",
      "     gender  icustay_admit_age  congestive_heart_failure  cardiac_arrhythmias  \\\n",
      "0         M           72.00637                         1                    1   \n",
      "1         M           68.93134                         0                    0   \n",
      "2         M           48.62681                         0                    0   \n",
      "3         F           90.64270                         1                    0   \n",
      "4         M           76.52892                         1                    0   \n",
      "...     ...                ...                       ...                  ...   \n",
      "5362      M           88.09742                         0                    0   \n",
      "5363      M           57.78417                         0                    0   \n",
      "5364      M           89.24603                         1                    1   \n",
      "5365      M           68.48606                         0                    0   \n",
      "5366      M           79.16299                         1                    1   \n",
      "\n",
      "      valvular_disease  pulmonary_circulation  peripheral_vascular  \\\n",
      "0                    0                      0                    0   \n",
      "1                    0                      0                    0   \n",
      "2                    0                      0                    0   \n",
      "3                    0                      0                    0   \n",
      "4                    0                      0                    0   \n",
      "...                ...                    ...                  ...   \n",
      "5362                 0                      0                    1   \n",
      "5363                 0                      0                    0   \n",
      "5364                 0                      0                    0   \n",
      "5365                 0                      0                    0   \n",
      "5366                 1                      0                    0   \n",
      "\n",
      "      hypertension  paralysis  other_neurological  ...  obesity  \\\n",
      "0                0          0                   0  ...        0   \n",
      "1                0          0                   0  ...        0   \n",
      "2                0          0                   0  ...        0   \n",
      "3                1          0                   0  ...        0   \n",
      "4                0          0                   0  ...        0   \n",
      "...            ...        ...                 ...  ...      ...   \n",
      "5362             1          0                   0  ...        0   \n",
      "5363             1          0                   0  ...        0   \n",
      "5364             0          0                   0  ...        0   \n",
      "5365             0          0                   0  ...        0   \n",
      "5366             1          0                   0  ...        0   \n",
      "\n",
      "      fluid_electrolyte  blood_loss_anemia  deficiency_anemias  alcohol_abuse  \\\n",
      "0                     0                  0                   0              0   \n",
      "1                     0                  0                   0              0   \n",
      "2                     0                  0                   0              0   \n",
      "3                     1                  0                   0              0   \n",
      "4                     0                  0                   0              0   \n",
      "...                 ...                ...                 ...            ...   \n",
      "5362                  1                  0                   0              0   \n",
      "5363                  1                  0                   0              0   \n",
      "5364                  1                  0                   1              0   \n",
      "5365                  1                  0                   0              0   \n",
      "5366                  0                  0                   0              0   \n",
      "\n",
      "      drug_abuse  psychoses  depression  icustay_id  icustay_expire_flg  \n",
      "0              0          0           0          29                   N  \n",
      "1              0          0           0          41                   N  \n",
      "2              1          0           0          89                   N  \n",
      "3              0          0           0          62                   N  \n",
      "4              0          0           0           4                   N  \n",
      "...          ...        ...         ...         ...                 ...  \n",
      "5362           0          0           0       47373                   Y  \n",
      "5363           0          0           0       47381                   Y  \n",
      "5364           0          0           0       47325                   Y  \n",
      "5365           0          0           0       47394                   Y  \n",
      "5366           0          0           0       47473                   Y  \n",
      "\n",
      "[5356 rows x 33 columns]\n"
     ]
    }
   ],
   "source": [
    "# Remove rows with any null values\n",
    "df = df.dropna()\n",
    "\n",
    "# Display the cleaned DataFrame\n",
    "print(\"Cleaned DataFrame:\")\n",
    "print(df)"
   ]
  },
  {
   "cell_type": "code",
   "execution_count": 6,
   "metadata": {},
   "outputs": [
    {
     "name": "stdout",
     "output_type": "stream",
     "text": [
      "Columns with Null Values:\n",
      "Series([], dtype: int64)\n"
     ]
    }
   ],
   "source": [
    "# Check for null values in the entire dataset\n",
    "null_values = df.isnull().sum()\n",
    "\n",
    "# Display the columns with null values and their respective counts\n",
    "print(\"Columns with Null Values:\")\n",
    "print(null_values[null_values > 0])"
   ]
  },
  {
   "cell_type": "code",
   "execution_count": 7,
   "metadata": {},
   "outputs": [
    {
     "data": {
      "image/png": "[encoded data removed]",
      "text/plain": [
       "<Figure size 640x480 with 1 Axes>"
      ]
     },
     "metadata": {},
     "output_type": "display_data"
    }
   ],
   "source": [
    "# Visualization for the 'gender' column\n",
    "sns.countplot(x='gender', data=df)\n",
    "plt.title('Distribution of Gender')\n",
    "plt.show()\n"
   ]
  },
  {
   "cell_type": "code",
   "execution_count": 8,
   "metadata": {},
   "outputs": [
    {
     "data": {
      "image/png": "[encoded data removed]",
      "text/plain": [
       "<Figure size 1000x600 with 1 Axes>"
      ]
     },
     "metadata": {},
     "output_type": "display_data"
    }
   ],
   "source": [
    "# Visualization for the 'icustay_admit_age' column\n",
    "plt.figure(figsize=(10, 6))\n",
    "sns.histplot(df['icustay_admit_age'], bins=30, kde=True)\n",
    "plt.title('Distribution of ICU Stay Admission Ages')\n",
    "plt.xlabel('Age')\n",
    "plt.show()"
   ]
  },
  {
   "cell_type": "code",
   "execution_count": 10,
   "metadata": {},
   "outputs": [
    {
     "data": {
      "image/png": "[encoded data removed]",
      "text/plain": [
       "<Figure size 800x500 with 1 Axes>"
      ]
     },
     "metadata": {},
     "output_type": "display_data"
    }
   ],
   "source": [
    "# Visualization for the 'hypertension' column\n",
    "plt.figure(figsize=(8, 5))\n",
    "sns.countplot(x='hypertension', data=df)\n",
    "plt.title('Distribution of Hypertension')\n",
    "plt.show()"
   ]
  },
  {
   "cell_type": "code",
   "execution_count": 11,
   "metadata": {},
   "outputs": [
    {
     "data": {
      "image/png": "[encoded data removed]",
      "text/plain": [
       "<Figure size 640x480 with 1 Axes>"
      ]
     },
     "metadata": {},
     "output_type": "display_data"
    }
   ],
   "source": [
    "# Visualization for the 'icustay_expire_flg' column\n",
    "sns.countplot(x='icustay_expire_flg', data=df)\n",
    "plt.title('Distribution of ICU Stay Expiration Flag')\n",
    "plt.show()"
   ]
  },
  {
   "cell_type": "code",
   "execution_count": 17,
   "metadata": {},
   "outputs": [
    {
     "name": "stdout",
     "output_type": "stream",
     "text": [
      "Number of outliers using Z-score method for icustay_admit_age: 45\n",
      "Number of outliers using Z-score method for congestive_heart_failure: 0\n",
      "Number of outliers using Z-score method for cardiac_arrhythmias: 0\n",
      "Number of outliers using Z-score method for valvular_disease: 0\n",
      "Number of outliers using Z-score method for pulmonary_circulation: 181\n",
      "Number of outliers using Z-score method for peripheral_vascular: 449\n",
      "Number of outliers using Z-score method for hypertension: 0\n",
      "Number of outliers using Z-score method for paralysis: 65\n",
      "Number of outliers using Z-score method for other_neurological: 199\n",
      "Number of outliers using Z-score method for chronic_pulmonary: 0\n",
      "Number of outliers using Z-score method for diabetes_uncomplicated: 0\n",
      "Number of outliers using Z-score method for diabetes_complicated: 409\n",
      "Number of outliers using Z-score method for hypothyroidism: 474\n",
      "Number of outliers using Z-score method for renal_failure: 0\n",
      "Number of outliers using Z-score method for liver_disease: 303\n",
      "Number of outliers using Z-score method for peptic_ulcer: 20\n",
      "Number of outliers using Z-score method for aids: 41\n",
      "Number of outliers using Z-score method for lymphoma: 159\n",
      "Number of outliers using Z-score method for metastatic_cancer: 425\n",
      "Number of outliers using Z-score method for solid_tumor: 0\n",
      "Number of outliers using Z-score method for rheumatoid_arthritis: 133\n",
      "Number of outliers using Z-score method for coagulopathy: 480\n",
      "Number of outliers using Z-score method for obesity: 39\n",
      "Number of outliers using Z-score method for fluid_electrolyte: 0\n",
      "Number of outliers using Z-score method for blood_loss_anemia: 0\n",
      "Number of outliers using Z-score method for deficiency_anemias: 0\n",
      "Number of outliers using Z-score method for alcohol_abuse: 166\n",
      "Number of outliers using Z-score method for drug_abuse: 86\n",
      "Number of outliers using Z-score method for psychoses: 143\n",
      "Number of outliers using Z-score method for depression: 166\n",
      "Number of outliers using Z-score method for icustay_id: 0\n"
     ]
    }
   ],
   "source": [
    "# Select numerical columns for outlier detection\n",
    "numeric_columns = df.select_dtypes(include=['int', 'float']).columns\n",
    "for column in numeric_columns:\n",
    "    z_scores = stats.zscore(df[column])\n",
    "    outliers_z = (z_scores > 3) | (z_scores < -3)\n",
    "    print(f'Number of outliers using Z-score method for {column}: {sum(outliers_z)}')"
   ]
  },
  {
   "cell_type": "code",
   "execution_count": 18,
   "metadata": {},
   "outputs": [
    {
     "name": "stdout",
     "output_type": "stream",
     "text": [
      "DataFrame after removing outliers:\n",
      "     gender  icustay_admit_age  congestive_heart_failure  cardiac_arrhythmias  \\\n",
      "0         M           72.00637                         1                    1   \n",
      "1         M           68.93134                         0                    0   \n",
      "3         F           90.64270                         1                    0   \n",
      "4         M           76.52892                         1                    0   \n",
      "7         M           55.24900                         0                    1   \n",
      "...     ...                ...                       ...                  ...   \n",
      "5361      M           81.10085                         0                    1   \n",
      "5363      M           57.78417                         0                    0   \n",
      "5364      M           89.24603                         1                    1   \n",
      "5365      M           68.48606                         0                    0   \n",
      "5366      M           79.16299                         1                    1   \n",
      "\n",
      "      valvular_disease  pulmonary_circulation  peripheral_vascular  \\\n",
      "0                    0                      0                    0   \n",
      "1                    0                      0                    0   \n",
      "3                    0                      0                    0   \n",
      "4                    0                      0                    0   \n",
      "7                    0                      0                    0   \n",
      "...                ...                    ...                  ...   \n",
      "5361                 0                      0                    0   \n",
      "5363                 0                      0                    0   \n",
      "5364                 0                      0                    0   \n",
      "5365                 0                      0                    0   \n",
      "5366                 1                      0                    0   \n",
      "\n",
      "      hypertension  paralysis  other_neurological  ...  obesity  \\\n",
      "0                0          0                   0  ...        0   \n",
      "1                0          0                   0  ...        0   \n",
      "3                1          0                   0  ...        0   \n",
      "4                0          0                   0  ...        0   \n",
      "7                0          0                   0  ...        0   \n",
      "...            ...        ...                 ...  ...      ...   \n",
      "5361             0          0                   0  ...        0   \n",
      "5363             1          0                   0  ...        0   \n",
      "5364             0          0                   0  ...        0   \n",
      "5365             0          0                   0  ...        0   \n",
      "5366             1          0                   0  ...        0   \n",
      "\n",
      "      fluid_electrolyte  blood_loss_anemia  deficiency_anemias  alcohol_abuse  \\\n",
      "0                     0                  0                   0              0   \n",
      "1                     0                  0                   0              0   \n",
      "3                     1                  0                   0              0   \n",
      "4                     0                  0                   0              0   \n",
      "7                     1                  0                   0              0   \n",
      "...                 ...                ...                 ...            ...   \n",
      "5361                  0                  0                   0              0   \n",
      "5363                  1                  0                   0              0   \n",
      "5364                  1                  0                   1              0   \n",
      "5365                  1                  0                   0              0   \n",
      "5366                  0                  0                   0              0   \n",
      "\n",
      "      drug_abuse  psychoses  depression  icustay_id  icustay_expire_flg  \n",
      "0              0          0           0          29                   N  \n",
      "1              0          0           0          41                   N  \n",
      "3              0          0           0          62                   N  \n",
      "4              0          0           0           4                   N  \n",
      "7              0          0           0          68                   N  \n",
      "...          ...        ...         ...         ...                 ...  \n",
      "5361           0          0           0       47416                   Y  \n",
      "5363           0          0           0       47381                   Y  \n",
      "5364           0          0           0       47325                   Y  \n",
      "5365           0          0           0       47394                   Y  \n",
      "5366           0          0           0       47473                   Y  \n",
      "\n",
      "[2565 rows x 33 columns]\n"
     ]
    }
   ],
   "source": [
    "# Set the Z-score threshold for outlier removal\n",
    "z_score_threshold = 3\n",
    "\n",
    "# Remove outliers using Z-score method for each numeric column\n",
    "for column in numeric_columns:\n",
    "    z_scores = stats.zscore(df[column])\n",
    "    outliers_z = (z_scores > z_score_threshold) | (z_scores < -z_score_threshold)\n",
    "    df = df[~outliers_z]\n",
    "\n",
    "# Display the cleaned DataFrame without outliers\n",
    "print(\"DataFrame after removing outliers:\")\n",
    "print(df)"
   ]
  },
  {
   "cell_type": "code",
   "execution_count": 19,
   "metadata": {},
   "outputs": [
    {
     "name": "stdout",
     "output_type": "stream",
     "text": [
      "Number of outliers using Z-score method for icustay_admit_age: 21\n",
      "Number of outliers using Z-score method for congestive_heart_failure: 0\n",
      "Number of outliers using Z-score method for cardiac_arrhythmias: 0\n",
      "Number of outliers using Z-score method for valvular_disease: 0\n",
      "Number of outliers using Z-score method for pulmonary_circulation: 0\n",
      "Number of outliers using Z-score method for peripheral_vascular: 0\n",
      "Number of outliers using Z-score method for hypertension: 0\n",
      "Number of outliers using Z-score method for paralysis: 0\n",
      "Number of outliers using Z-score method for other_neurological: 0\n",
      "Number of outliers using Z-score method for chronic_pulmonary: 0\n",
      "Number of outliers using Z-score method for diabetes_uncomplicated: 0\n",
      "Number of outliers using Z-score method for diabetes_complicated: 0\n",
      "Number of outliers using Z-score method for hypothyroidism: 0\n",
      "Number of outliers using Z-score method for renal_failure: 0\n",
      "Number of outliers using Z-score method for liver_disease: 0\n",
      "Number of outliers using Z-score method for peptic_ulcer: 0\n",
      "Number of outliers using Z-score method for aids: 0\n",
      "Number of outliers using Z-score method for lymphoma: 0\n",
      "Number of outliers using Z-score method for metastatic_cancer: 0\n",
      "Number of outliers using Z-score method for solid_tumor: 0\n",
      "Number of outliers using Z-score method for rheumatoid_arthritis: 0\n",
      "Number of outliers using Z-score method for coagulopathy: 0\n",
      "Number of outliers using Z-score method for obesity: 0\n",
      "Number of outliers using Z-score method for fluid_electrolyte: 0\n",
      "Number of outliers using Z-score method for blood_loss_anemia: 0\n",
      "Number of outliers using Z-score method for deficiency_anemias: 0\n",
      "Number of outliers using Z-score method for alcohol_abuse: 0\n",
      "Number of outliers using Z-score method for drug_abuse: 0\n",
      "Number of outliers using Z-score method for psychoses: 0\n",
      "Number of outliers using Z-score method for depression: 0\n",
      "Number of outliers using Z-score method for icustay_id: 0\n"
     ]
    }
   ],
   "source": [
    "# Select numerical columns for outlier detection\n",
    "numeric_columns = df.select_dtypes(include=['int', 'float']).columns\n",
    "for column in numeric_columns:\n",
    "    z_scores = stats.zscore(df[column])\n",
    "    outliers_z = (z_scores > 3) | (z_scores < -3)\n",
    "    print(f'Number of outliers using Z-score method for {column}: {sum(outliers_z)}')"
   ]
  },
  {
   "cell_type": "code",
   "execution_count": 20,
   "metadata": {},
   "outputs": [],
   "source": [
    "target_column = 'icustay_expire_flg'\n"
   ]
  },
  {
   "cell_type": "code",
   "execution_count": 21,
   "metadata": {},
   "outputs": [],
   "source": [
    "X = df.drop(target_column, axis=1)\n",
    "y = df[target_column]\n"
   ]
  },
  {
   "cell_type": "code",
   "execution_count": 22,
   "metadata": {},
   "outputs": [],
   "source": [
    "X_encoded = pd.get_dummies(X, columns=X.select_dtypes(include='object').columns, drop_first=True)"
   ]
  },
  {
   "cell_type": "code",
   "execution_count": 23,
   "metadata": {},
   "outputs": [],
   "source": [
    "from sklearn.model_selection import train_test_split\n",
    "from sklearn.ensemble import RandomForestClassifier\n",
    "from sklearn.metrics import accuracy_score, classification_report\n",
    "\n",
    "X_train, X_test, y_train, y_test = train_test_split(X_encoded, y, test_size=0.2, random_state=42)\n"
   ]
  },
  {
   "cell_type": "code",
   "execution_count": 24,
   "metadata": {},
   "outputs": [
    {
     "data": {
      "text/html": [
       "<style>#sk-container-id-1 {color: black;background-color: white;}#sk-container-id-1 pre{padding: 0;}#sk-container-id-1 div.sk-toggleable {background-color: white;}#sk-container-id-1 label.sk-toggleable__label {cursor: pointer;display: block;width: 100%;margin-bottom: 0;padding: 0.3em;box-sizing: border-box;text-align: center;}#sk-container-id-1 label.sk-toggleable__label-arrow:before {content: \"▸\";float: left;margin-right: 0.25em;color: #696969;}#sk-container-id-1 label.sk-toggleable__label-arrow:hover:before {color: black;}#sk-container-id-1 div.sk-estimator:hover label.sk-toggleable__label-arrow:before {color: black;}#sk-container-id-1 div.sk-toggleable__content {max-height: 0;max-width: 0;overflow: hidden;text-align: left;background-color: #f0f8ff;}#sk-container-id-1 div.sk-toggleable__content pre {margin: 0.2em;color: black;border-radius: 0.25em;background-color: #f0f8ff;}#sk-container-id-1 input.sk-toggleable__control:checked~div.sk-toggleable__content {max-height: 200px;max-width: 100%;overflow: auto;}#sk-container-id-1 input.sk-toggleable__control:checked~label.sk-toggleable__label-arrow:before {content: \"▾\";}#sk-container-id-1 div.sk-estimator input.sk-toggleable__control:checked~label.sk-toggleable__label {background-color: #d4ebff;}#sk-container-id-1 div.sk-label input.sk-toggleable__control:checked~label.sk-toggleable__label {background-color: #d4ebff;}#sk-container-id-1 input.sk-hidden--visually {border: 0;clip: rect(1px 1px 1px 1px);clip: rect(1px, 1px, 1px, 1px);height: 1px;margin: -1px;overflow: hidden;padding: 0;position: absolute;width: 1px;}#sk-container-id-1 div.sk-estimator {font-family: monospace;background-color: #f0f8ff;border: 1px dotted black;border-radius: 0.25em;box-sizing: border-box;margin-bottom: 0.5em;}#sk-container-id-1 div.sk-estimator:hover {background-color: #d4ebff;}#sk-container-id-1 div.sk-parallel-item::after {content: \"\";width: 100%;border-bottom: 1px solid gray;flex-grow: 1;}#sk-container-id-1 div.sk-label:hover label.sk-toggleable__label {background-color: #d4ebff;}#sk-container-id-1 div.sk-serial::before {content: \"\";position: absolute;border-left: 1px solid gray;box-sizing: border-box;top: 0;bottom: 0;left: 50%;z-index: 0;}#sk-container-id-1 div.sk-serial {display: flex;flex-direction: column;align-items: center;background-color: white;padding-right: 0.2em;padding-left: 0.2em;position: relative;}#sk-container-id-1 div.sk-item {position: relative;z-index: 1;}#sk-container-id-1 div.sk-parallel {display: flex;align-items: stretch;justify-content: center;background-color: white;position: relative;}#sk-container-id-1 div.sk-item::before, #sk-container-id-1 div.sk-parallel-item::before {content: \"\";position: absolute;border-left: 1px solid gray;box-sizing: border-box;top: 0;bottom: 0;left: 50%;z-index: -1;}#sk-container-id-1 div.sk-parallel-item {display: flex;flex-direction: column;z-index: 1;position: relative;background-color: white;}#sk-container-id-1 div.sk-parallel-item:first-child::after {align-self: flex-end;width: 50%;}#sk-container-id-1 div.sk-parallel-item:last-child::after {align-self: flex-start;width: 50%;}#sk-container-id-1 div.sk-parallel-item:only-child::after {width: 0;}#sk-container-id-1 div.sk-dashed-wrapped {border: 1px dashed gray;margin: 0 0.4em 0.5em 0.4em;box-sizing: border-box;padding-bottom: 0.4em;background-color: white;}#sk-container-id-1 div.sk-label label {font-family: monospace;font-weight: bold;display: inline-block;line-height: 1.2em;}#sk-container-id-1 div.sk-label-container {text-align: center;}#sk-container-id-1 div.sk-container {/* jupyter's `normalize.less` sets `[hidden] { display: none; }` but bootstrap.min.css set `[hidden] { display: none !important; }` so we also need the `!important` here to be able to override the default hidden behavior on the sphinx rendered scikit-learn.org. See: https://github.com/scikit-learn/scikit-learn/issues/21755 */display: inline-block !important;position: relative;}#sk-container-id-1 div.sk-text-repr-fallback {display: none;}</style><div id=\"sk-container-id-1\" class=\"sk-top-container\"><div class=\"sk-text-repr-fallback\"><pre>RandomForestClassifier(random_state=42)</pre><b>In a Jupyter environment, please rerun this cell to show the HTML representation or trust the notebook. <br />On GitHub, the HTML representation is unable to render, please try loading this page with nbviewer.org.</b></div><div class=\"sk-container\" hidden><div class=\"sk-item\"><div class=\"sk-estimator sk-toggleable\"><input class=\"sk-toggleable__control sk-hidden--visually\" id=\"sk-estimator-id-1\" type=\"checkbox\" checked><label for=\"sk-estimator-id-1\" class=\"sk-toggleable__label sk-toggleable__label-arrow\">RandomForestClassifier</label><div class=\"sk-toggleable__content\"><pre>RandomForestClassifier(random_state=42)</pre></div></div></div></div></div>"
      ],
      "text/plain": [
       "RandomForestClassifier(random_state=42)"
      ]
     },
     "execution_count": 24,
     "metadata": {},
     "output_type": "execute_result"
    }
   ],
   "source": [
    "# Create and train a Random Forest classifier\n",
    "clf = RandomForestClassifier(n_estimators=100, random_state=42)\n",
    "clf.fit(X_train, y_train)"
   ]
  },
  {
   "cell_type": "code",
   "execution_count": 30,
   "metadata": {},
   "outputs": [
    {
     "data": {
      "text/plain": [
       "1.0"
      ]
     },
     "execution_count": 30,
     "metadata": {},
     "output_type": "execute_result"
    }
   ],
   "source": [
    "clf.score(X_train,y_train)"
   ]
  },
  {
   "cell_type": "code",
   "execution_count": 27,
   "metadata": {},
   "outputs": [
    {
     "data": {
      "text/plain": [
       "array(['N', 'N', 'Y', 'N', 'N', 'N', 'N', 'N', 'N', 'N', 'N', 'N', 'Y',\n",
       "       'N', 'N', 'N', 'N', 'N', 'N', 'N', 'N', 'N', 'N', 'N', 'N', 'N',\n",
       "       'N', 'N', 'N', 'N', 'N', 'N', 'N', 'N', 'N', 'N', 'N', 'N', 'N',\n",
       "       'Y', 'N', 'N', 'N', 'N', 'N', 'N', 'N', 'N', 'N', 'N', 'N', 'N',\n",
       "       'N', 'N', 'N', 'N', 'N', 'N', 'Y', 'N', 'N', 'N', 'N', 'N', 'N',\n",
       "       'N', 'N', 'N', 'N', 'N', 'N', 'N', 'N', 'N', 'N', 'N', 'N', 'N',\n",
       "       'N', 'Y', 'N', 'N', 'N', 'N', 'N', 'Y', 'N', 'N', 'N', 'N', 'Y',\n",
       "       'N', 'N', 'N', 'N', 'N', 'N', 'N', 'N', 'N', 'Y', 'N', 'N', 'N',\n",
       "       'N', 'N', 'N', 'N', 'N', 'N', 'N', 'Y', 'N', 'N', 'N', 'N', 'N',\n",
       "       'N', 'N', 'N', 'N', 'N', 'N', 'N', 'N', 'N', 'N', 'N', 'N', 'N',\n",
       "       'N', 'N', 'N', 'N', 'Y', 'N', 'N', 'N', 'Y', 'N', 'N', 'N', 'N',\n",
       "       'N', 'N', 'N', 'Y', 'N', 'N', 'N', 'N', 'Y', 'Y', 'N', 'N', 'N',\n",
       "       'N', 'Y', 'N', 'N', 'N', 'N', 'N', 'N', 'N', 'N', 'N', 'N', 'N',\n",
       "       'N', 'N', 'N', 'Y', 'N', 'N', 'N', 'N', 'N', 'N', 'N', 'N', 'N',\n",
       "       'N', 'N', 'N', 'N', 'N', 'N', 'N', 'N', 'N', 'N', 'Y', 'N', 'N',\n",
       "       'N', 'N', 'N', 'Y', 'N', 'N', 'N', 'Y', 'Y', 'N', 'N', 'N', 'N',\n",
       "       'Y', 'N', 'N', 'N', 'N', 'N', 'Y', 'N', 'N', 'N', 'N', 'N', 'N',\n",
       "       'N', 'N', 'N', 'N', 'N', 'N', 'N', 'N', 'N', 'N', 'N', 'N', 'N',\n",
       "       'N', 'N', 'N', 'N', 'N', 'N', 'N', 'N', 'N', 'N', 'Y', 'N', 'N',\n",
       "       'N', 'N', 'N', 'N', 'N', 'N', 'N', 'N', 'N', 'Y', 'N', 'N', 'N',\n",
       "       'Y', 'N', 'N', 'N', 'N', 'N', 'N', 'N', 'N', 'N', 'N', 'N', 'N',\n",
       "       'N', 'N', 'N', 'N', 'N', 'N', 'N', 'N', 'N', 'N', 'N', 'N', 'N',\n",
       "       'N', 'N', 'N', 'N', 'N', 'N', 'N', 'N', 'N', 'N', 'Y', 'N', 'N',\n",
       "       'N', 'N', 'N', 'N', 'N', 'N', 'Y', 'N', 'N', 'N', 'N', 'N', 'N',\n",
       "       'N', 'N', 'N', 'N', 'N', 'N', 'N', 'N', 'N', 'N', 'N', 'N', 'N',\n",
       "       'N', 'N', 'N', 'Y', 'N', 'N', 'N', 'Y', 'N', 'N', 'N', 'Y', 'N',\n",
       "       'N', 'N', 'N', 'N', 'N', 'N', 'N', 'N', 'N', 'N', 'Y', 'N', 'N',\n",
       "       'Y', 'N', 'N', 'N', 'N', 'N', 'N', 'N', 'N', 'N', 'N', 'N', 'N',\n",
       "       'N', 'N', 'N', 'N', 'N', 'N', 'Y', 'N', 'N', 'N', 'N', 'N', 'N',\n",
       "       'N', 'N', 'N', 'N', 'N', 'N', 'N', 'N', 'N', 'N', 'N', 'N', 'N',\n",
       "       'N', 'N', 'N', 'N', 'N', 'N', 'N', 'N', 'N', 'Y', 'N', 'N', 'N',\n",
       "       'N', 'N', 'N', 'N', 'N', 'N', 'N', 'N', 'N', 'N', 'N', 'N', 'N',\n",
       "       'N', 'N', 'N', 'Y', 'N', 'N', 'N', 'N', 'N', 'N', 'N', 'Y', 'Y',\n",
       "       'Y', 'N', 'N', 'N', 'N', 'N', 'N', 'N', 'N', 'N', 'N', 'N', 'N',\n",
       "       'N', 'N', 'N', 'N', 'N', 'N', 'N', 'N', 'N', 'N', 'N', 'Y', 'N',\n",
       "       'N', 'N', 'N', 'N', 'N', 'N', 'N', 'N', 'N', 'Y', 'Y', 'N', 'N',\n",
       "       'N', 'N', 'Y', 'N', 'N', 'N', 'N', 'N', 'N', 'N', 'N', 'N', 'N',\n",
       "       'Y', 'Y', 'N', 'N', 'N', 'N', 'N', 'N', 'N', 'N', 'N', 'N', 'N',\n",
       "       'N', 'N', 'N', 'N', 'Y', 'N', 'N', 'N', 'N', 'N', 'N', 'N', 'N',\n",
       "       'N', 'N', 'N', 'N', 'N', 'N'], dtype=object)"
      ]
     },
     "execution_count": 27,
     "metadata": {},
     "output_type": "execute_result"
    }
   ],
   "source": [
    "# Make predictions on the test set\n",
    "y_pred = clf.predict(X_test)\n",
    "y_pred\n"
   ]
  },
  {
   "cell_type": "code",
   "execution_count": 28,
   "metadata": {},
   "outputs": [
    {
     "name": "stdout",
     "output_type": "stream",
     "text": [
      "Accuracy: 0.76\n"
     ]
    }
   ],
   "source": [
    "# Evaluate the model\n",
    "accuracy = accuracy_score(y_test, y_pred)\n",
    "print(f'Accuracy: {accuracy:.2f}')"
   ]
  },
  {
   "cell_type": "code",
   "execution_count": 29,
   "metadata": {},
   "outputs": [
    {
     "name": "stdout",
     "output_type": "stream",
     "text": [
      "Classification Report:\n",
      "              precision    recall  f1-score   support\n",
      "\n",
      "           N       0.80      0.93      0.86       403\n",
      "           Y       0.36      0.15      0.21       110\n",
      "\n",
      "    accuracy                           0.76       513\n",
      "   macro avg       0.58      0.54      0.53       513\n",
      "weighted avg       0.70      0.76      0.72       513\n",
      "\n"
     ]
    }
   ],
   "source": [
    "# Display classification report\n",
    "print(\"Classification Report:\")\n",
    "print(classification_report(y_test, y_pred))"
   ]
  },
  {
   "cell_type": "code",
   "execution_count": null,
   "metadata": {},
   "outputs": [],
   "source": []
  }
 ],
 "metadata": {
  "kernelspec": {
   "display_name": "base",
   "language": "python",
   "name": "python3"
  },
  "language_info": {
   "codemirror_mode": {
    "name": "ipython",
    "version": 3
   },
   "file_extension": ".py",
   "mimetype": "text/x-python",
   "name": "python",
   "nbconvert_exporter": "python",
   "pygments_lexer": "ipython3",
   "version": "3.11.5"
  }
 },
 "nbformat": 4,
 "nbformat_minor": 2
}
